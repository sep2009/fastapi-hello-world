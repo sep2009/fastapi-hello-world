{
 "cells": [
  {
   "cell_type": "code",
   "execution_count": 3,
   "id": "8376031b-645e-4da2-8466-c92b440ac53a",
   "metadata": {},
   "outputs": [
    {
     "name": "stdout",
     "output_type": "stream",
     "text": [
      "45\n"
     ]
    }
   ],
   "source": [
    "x = 45\n",
    "print(x)"
   ]
  },
  {
   "cell_type": "markdown",
   "id": "553a224a-48d2-4bf0-b86f-0c476dc399e4",
   "metadata": {},
   "source": [
    "# graghs"
   ]
  },
  {
   "cell_type": "code",
   "execution_count": null,
   "id": "1fe0d211-7bea-462e-b9d7-347156d3dfbe",
   "metadata": {},
   "outputs": [],
   "source": []
  }
 ],
 "metadata": {
  "kernelspec": {
   "display_name": "Python 3 (ipykernel)",
   "language": "python",
   "name": "python3"
  },
  "language_info": {
   "codemirror_mode": {
    "name": "ipython",
    "version": 3
   },
   "file_extension": ".py",
   "mimetype": "text/x-python",
   "name": "python",
   "nbconvert_exporter": "python",
   "pygments_lexer": "ipython3",
   "version": "3.13.7"
  }
 },
 "nbformat": 4,
 "nbformat_minor": 5
}
